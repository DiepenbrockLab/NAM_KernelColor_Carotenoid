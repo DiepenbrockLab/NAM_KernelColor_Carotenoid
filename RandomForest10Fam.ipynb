{
 "cells": [
  {
   "cell_type": "markdown",
   "metadata": {
    "slideshow": {
     "slide_type": "slide"
    }
   },
   "source": [
    "# Random Forest to predict kernel color using carotenoid traits\n",
    "\n",
    "Credit to these tutorials: \n",
    "- https://towardsdatascience.com/random-forest-in-python-24d0893d51c0\n",
    "- https://www.analyticsvidhya.com/blog/2021/05/multiple-linear-regression-using-python-and-scikit-learn/"
   ]
  },
  {
   "cell_type": "markdown",
   "metadata": {
    "slideshow": {
     "slide_type": "slide"
    }
   },
   "source": [
    "# Questions\n",
    "1. Will a Random Forest Model outperform the best-performing linear model? \n",
    "2. How are each of the variables weighted in the RF Model?\n",
    "    - Does this fit our scientific expectations?\n",
    "3. How can the model be tweaked/adjusted to improve RF prediction?"
   ]
  },
  {
   "cell_type": "markdown",
   "metadata": {
    "slideshow": {
     "slide_type": "slide"
    }
   },
   "source": [
    "## Quick Refresher: what is random forest?\n",
    "\n",
    "- A supervised learning model (meaning it takes in labled training data, which is used to predict test data after the model is fit)\n",
    "- Can be used for both classification and regression problems \n",
    "    - classification: can the dependent variables predict if the air quality index is above the \"healthy\" threshold?\n",
    "    - regression: can the dependent variables predict the value of the air quality index?\n",
    "- Incorporates the results from many (eg. 1000) decision trees to figure out \n",
    "    - the best fit model\n",
    "    - the importance of each node (which represents a dependent variable)"
   ]
  },
  {
   "cell_type": "markdown",
   "metadata": {
    "slideshow": {
     "slide_type": "slide"
    }
   },
   "source": [
    "# Data Processing-- the details\n",
    "Would you like to see this part, or should I skip to the results? "
   ]
  },
  {
   "cell_type": "code",
   "execution_count": 28,
   "metadata": {},
   "outputs": [
    {
     "name": "stdout",
     "output_type": "stream",
     "text": [
      "3.8.5\n"
     ]
    }
   ],
   "source": [
    "from platform import python_version\n",
    "print(python_version())"
   ]
  },
  {
   "cell_type": "code",
   "execution_count": 29,
   "metadata": {
    "slideshow": {
     "slide_type": "subslide"
    }
   },
   "outputs": [],
   "source": [
    "#general python\n",
    "import numpy as np\n",
    "import pandas as pd\n",
    "\n",
    "#plotting\n",
    "import matplotlib.pyplot as plt\n",
    "\n",
    "#modeling\n",
    "from sklearn.linear_model import LinearRegression\n",
    "from sklearn.ensemble import RandomForestRegressor\n",
    "from sklearn.model_selection import train_test_split\n",
    "\n",
    "#assessing model\n",
    "from sklearn.metrics import r2_score\n",
    "from sklearn.metrics import mean_squared_error\n",
    "%matplotlib inline"
   ]
  },
  {
   "cell_type": "code",
   "execution_count": 30,
   "metadata": {
    "slideshow": {
     "slide_type": "subslide"
    }
   },
   "outputs": [],
   "source": [
    "data = pd.read_csv('/Users/maryfrancis/Documents/Diepenbrock_Lab/Carotenoid_NAM/transformed.BLUEs.csv')\n",
    "data[\"population\"] = data[\"population\"].astype(\"category\")\n",
    "data = data.drop(['GenoCode'], axis=1)"
   ]
  },
  {
   "cell_type": "code",
   "execution_count": 31,
   "metadata": {
    "slideshow": {
     "slide_type": "subslide"
    }
   },
   "outputs": [],
   "source": [
    "data.head(5)\n",
    "data = pd.get_dummies(data)"
   ]
  },
  {
   "cell_type": "code",
   "execution_count": 32,
   "metadata": {
    "scrolled": true,
    "slideshow": {
     "slide_type": "subslide"
    }
   },
   "outputs": [],
   "source": [
    "data.iloc[:,5:].head(5)\n",
    "poplist = [\n",
    "['population_1', 'population_3', 'population_8'],\n",
    "['population_10', 'population_12', 'population_13'],\n",
    "['population_20', 'population_21', 'population_23','population_25']\n",
    "]"
   ]
  },
  {
   "cell_type": "code",
   "execution_count": 33,
   "metadata": {
    "slideshow": {
     "slide_type": "subslide"
    }
   },
   "outputs": [],
   "source": [
    "y = data[\"traitKC\"]\n",
    "x = data[[\"a_carotene\",\"b_carotene\",\"b_cryp\",\"lutein\",\"phytofluene\",\"zeaxanthin\",\"zeino\",\"total_carot\",\"population_1\", \"population_3\", \"population_8\",\"population_10\", \"population_12\", \"population_13\",\"population_20\", \"population_21\", \"population_23\",\"population_25\"]]"
   ]
  },
  {
   "cell_type": "code",
   "execution_count": 34,
   "metadata": {
    "slideshow": {
     "slide_type": "subslide"
    }
   },
   "outputs": [],
   "source": [
    "labels = np.array(data['traitKC'])\n",
    "features= data.drop(['traitKC','Unnamed: 0'], axis = 1)\n",
    "feature_list = list(features.columns)\n",
    "features = np.array(features)"
   ]
  },
  {
   "cell_type": "code",
   "execution_count": 35,
   "metadata": {
    "slideshow": {
     "slide_type": "subslide"
    }
   },
   "outputs": [],
   "source": [
    "#print('Training Features Shape:', train_features.shape)\n",
    "#print('Training Labels Shape:', train_labels.shape)\n",
    "#print('Testing Features Shape:', test_features.shape)\n",
    "#print('Testing Labels Shape:', test_labels.shape)"
   ]
  },
  {
   "cell_type": "markdown",
   "metadata": {
    "slideshow": {
     "slide_type": "slide"
    }
   },
   "source": [
    "# Before we predict using random forest, we need a baseline!\n",
    "Question 1 asks if RF will outperform a linear model-- to find out, we must run that linear model to calculate baseline performance."
   ]
  },
  {
   "cell_type": "code",
   "execution_count": 36,
   "metadata": {
    "slideshow": {
     "slide_type": "slide"
    }
   },
   "outputs": [
    {
     "name": "stdout",
     "output_type": "stream",
     "text": [
      "r2 socre is:  0.719\n",
      "Average baseline error:  0.25 transformed BLUE units\n",
      "Base Accuracy: 92.41 %.\n"
     ]
    }
   ],
   "source": [
    "# splitting the data\n",
    "indices = list(range(0,30,1))\n",
    "score = ['' for i in range(30)]\n",
    "baseline_errors = ['' for i in range(30)]\n",
    "mape_base = ['' for i in range(30)]\n",
    "accuracy_base = ['' for i in range(30)]\n",
    "\n",
    "for index in indices:\n",
    "    x_train, x_test, y_train, y_test = train_test_split(x, y, test_size = 0.3,random_state=index)\n",
    "    LR = LinearRegression()\n",
    "    # fitting the training data\n",
    "    LR.fit(x_train,y_train)\n",
    "    #predict\n",
    "    y_prediction =  LR.predict(x_test)\n",
    "\n",
    "    # assessing accuracy\n",
    "    score[index]=r2_score(y_test,y_prediction)\n",
    "    \n",
    "    baseline_errors[index] = abs(y_prediction - y_test)\n",
    "    mape_base[index] = 100 * (baseline_errors[index] / y_test)\n",
    "    accuracy_base[index] = 100 - np.mean(mape_base[index])\n",
    "\n",
    "    \n",
    "\n",
    "print('r2 socre is: ',round(np.mean(score),3))\n",
    "print('Average baseline error: ', round(np.mean(baseline_errors), 2), \"transformed BLUE units\")\n",
    "print('Base Accuracy:', round(np.mean(accuracy_base), 2), '%.')\n"
   ]
  },
  {
   "cell_type": "markdown",
   "metadata": {
    "slideshow": {
     "slide_type": "slide"
    }
   },
   "source": [
    "# Into the Woods\n",
    "Now, we create a Random Forest model with 1000 estimators (decision trees), fit, predict, and assess."
   ]
  },
  {
   "cell_type": "code",
   "execution_count": 37,
   "metadata": {
    "slideshow": {
     "slide_type": "slide"
    }
   },
   "outputs": [
    {
     "name": "stdout",
     "output_type": "stream",
     "text": [
      "r2 socre is:  0.713\n",
      "Mean Absolute Error: 0.25 transformed BLUE units\n",
      "Accuracy: 92.39 %.\n"
     ]
    }
   ],
   "source": [
    "indices = list(range(0,30,1))\n",
    "score = ['' for i in range(30)]\n",
    "errors = ['' for i in range(30)]\n",
    "mape = ['' for i in range(30)]\n",
    "accuracy = ['' for i in range(30)]\n",
    "\n",
    "for index in indices:\n",
    "    train_features, test_features, train_labels, test_labels = train_test_split(features, labels, test_size = 0.3,random_state=index)\n",
    "\n",
    "    rf = RandomForestRegressor(n_estimators = 1000)\n",
    "    rf.fit(train_features, train_labels);\n",
    "    predictions = rf.predict(test_features)\n",
    "\n",
    "    # Calculate the absolute errors\n",
    "    errors[index] = abs(predictions - test_labels)\n",
    "    mape[index] = 100 * (errors[index] / test_labels)\n",
    "    accuracy[index] = 100 - np.mean(mape[index])\n",
    "    score[index]=r2_score(test_labels,predictions)\n",
    "\n",
    "print('r2 socre is: ',round(np.mean(score),3))\n",
    "print('Mean Absolute Error:', round(np.mean(errors), 2),\"transformed BLUE units\")\n",
    "print('Accuracy:', round(np.mean(accuracy), 2), '%.')\n"
   ]
  },
  {
   "cell_type": "code",
   "execution_count": 38,
   "metadata": {},
   "outputs": [
    {
     "data": {
      "image/png": "[encoded data removed]",
      "text/plain": [
       "<Figure size 432x288 with 1 Axes>"
      ]
     },
     "metadata": {
      "needs_background": "light"
     },
     "output_type": "display_data"
    }
   ],
   "source": [
    "plt.plot(predictions, test_labels - predictions,'o', color='black')\n",
    "plt.ylabel('residual'); plt.xlabel('fitted y');"
   ]
  },
  {
   "cell_type": "markdown",
   "metadata": {
    "slideshow": {
     "slide_type": "slide"
    }
   },
   "source": [
    "# Feature Importance\n",
    "This section addresses question 2: which variables does the model weight as important, "
   ]
  },
  {
   "cell_type": "code",
   "execution_count": 39,
   "metadata": {
    "slideshow": {
     "slide_type": "slide"
    }
   },
   "outputs": [
    {
     "name": "stdout",
     "output_type": "stream",
     "text": [
      "Variable: zeaxanthin           Importance: 0.58\n",
      "Variable: total_carot          Importance: 0.12\n",
      "Variable: b_carotene           Importance: 0.05\n",
      "Variable: b_cryp               Importance: 0.05\n",
      "Variable: a_carotene           Importance: 0.04\n",
      "Variable: lutein               Importance: 0.04\n",
      "Variable: phytofluene          Importance: 0.04\n",
      "Variable: zeino                Importance: 0.03\n",
      "Variable: population_3         Importance: 0.02\n",
      "Variable: population_25        Importance: 0.02\n",
      "Variable: population_10        Importance: 0.01\n",
      "Variable: population_12        Importance: 0.01\n",
      "Variable: population_1         Importance: 0.0\n",
      "Variable: population_8         Importance: 0.0\n",
      "Variable: population_13        Importance: 0.0\n",
      "Variable: population_20        Importance: 0.0\n",
      "Variable: population_21        Importance: 0.0\n",
      "Variable: population_23        Importance: 0.0\n"
     ]
    }
   ],
   "source": [
    "# Get numerical feature importances\n",
    "importances = list(rf.feature_importances_)\n",
    "# List of tuples with variable and importance\n",
    "feature_importances = [(feature, round(importance, 2)) for feature, importance in zip(feature_list, importances)]\n",
    "# Sort the feature importances by most important first\n",
    "feature_importances = sorted(feature_importances, key = lambda x: x[1], reverse = True)\n",
    "# Print out the feature and importances \n",
    "[print('Variable: {:20} Importance: {}'.format(*pair)) for pair in feature_importances];"
   ]
  },
  {
   "cell_type": "code",
   "execution_count": 40,
   "metadata": {},
   "outputs": [],
   "source": [
    "plot_list = pd.DataFrame(\n",
    "    {'features': feature_list,\n",
    "     'importances': importances,\n",
    "    })\n",
    "plot_list = plot_list.sort_values(\"importances\", ascending=False)\n",
    "plot_list\n",
    "\n",
    "plot_list[\"features\"]\n",
    "list_feature = [\"ZEA\", \"TOTCAR\", \"BCRY\", \"BCAR\", \"PHYF\", \"LUT\", \"ZEI\", \"ACAR\", \"Family_25\", \"Family_3\", \"Family_12\", \"Family_10\", \"Family_23\", \"Family_20\", \"Family_8\", \"Family_13\", \"Family_1\", \"Family_21\"]\n",
    "\n",
    "\n",
    "Dict = dict({\"zeaxanthin\": \"ZEA\", \"total_carot\":\"TOTCAR\", \"b_cryp\":\"BCRY\", \"b_carotene\":\"BCAR\", \"phytofluene\":\"PHYF\", \"lutein\":\"LUT\", \"zeino\":\"ZEI\", \"a_carotene\":\"ACAR\", \"population_25\":\"Family_25\", \"population_3\":\"Family_3\", \"population_12\":\"Family_12\", \"population_10\":\"Family_10\", \"population_23\":\"Family_23\", \"population_20\":\"Family_20\", \"population_8\":\"Family_8\", \"population_13\":\"Family_13\", \"population_1\":\"Family_1\", \"population_21\":\"Family_21\"})\n",
    "\n",
    "L2 = pd.Series(plot_list[\"features\"]).map(Dict)\n",
    "\n",
    "\n"
   ]
  },
  {
   "cell_type": "code",
   "execution_count": 41,
   "metadata": {
    "slideshow": {
     "slide_type": "slide"
    }
   },
   "outputs": [
    {
     "data": {
      "image/png": "[encoded data removed]",
      "text/plain": [
       "<Figure size 640x480 with 1 Axes>"
      ]
     },
     "metadata": {},
     "output_type": "display_data"
    }
   ],
   "source": [
    "# Import matplotlib for plotting and use magic command for Jupyter Notebooks\n",
    "import matplotlib.pyplot as plt\n",
    "theme_bw = \"path2file/theme_bw.mplstyle\"\n",
    "%matplotlib inline\n",
    "# Set the style\n",
    "plt.style.use(\"default\")\n",
    "# list of x locations for plotting\n",
    "x_values = list(range(len(importances)))\n",
    "# Make a bar chart\n",
    "plt.bar(x_values, plot_list[\"importances\"], orientation = 'vertical')\n",
    "# Tick labels for x axis\n",
    "plt.xticks(x_values, L2, rotation='vertical')\n",
    "# Axis labels and title\n",
    "plt.ylabel('Importance'); plt.xlabel('Model Variable');"
   ]
  },
  {
   "cell_type": "markdown",
   "metadata": {
    "slideshow": {
     "slide_type": "slide"
    }
   },
   "source": [
    "# Hyper-parameterization\n",
    "Since the RF performed slightly worse than the linear model, my hyperparameters could have been better-optimized. I will re-hyperparameterize using the \"random search\" and \"grid search\" methods from sci-kit learn.\n",
    "\n",
    "https://towardsdatascience.com/hyperparameter-tuning-the-random-forest-in-python-using-scikit-learn-28d2aa77dd74"
   ]
  },
  {
   "cell_type": "code",
   "execution_count": 42,
   "metadata": {
    "slideshow": {
     "slide_type": "slide"
    }
   },
   "outputs": [
    {
     "name": "stdout",
     "output_type": "stream",
     "text": [
      "Parameters currently in use:\n",
      "\n",
      "{'bootstrap': True,\n",
      " 'ccp_alpha': 0.0,\n",
      " 'criterion': 'mse',\n",
      " 'max_depth': None,\n",
      " 'max_features': 'auto',\n",
      " 'max_leaf_nodes': None,\n",
      " 'max_samples': None,\n",
      " 'min_impurity_decrease': 0.0,\n",
      " 'min_impurity_split': None,\n",
      " 'min_samples_leaf': 1,\n",
      " 'min_samples_split': 2,\n",
      " 'min_weight_fraction_leaf': 0.0,\n",
      " 'n_estimators': 1000,\n",
      " 'n_jobs': None,\n",
      " 'oob_score': False,\n",
      " 'random_state': None,\n",
      " 'verbose': 0,\n",
      " 'warm_start': False}\n"
     ]
    }
   ],
   "source": [
    "#check which parameters I was using\n",
    "from pprint import pprint\n",
    "print('Parameters currently in use:\\n')\n",
    "pprint(rf.get_params()) #makes the print pretty"
   ]
  },
  {
   "cell_type": "markdown",
   "metadata": {
    "slideshow": {
     "slide_type": "skip"
    }
   },
   "source": [
    "https://towardsdatascience.com/hyperparameter-tuning-the-random-forest-in-python-using-scikit-learn-28d2aa77dd74\n",
    "    \n",
    "Now the plan is to first do a random search, and then do a grid search  "
   ]
  },
  {
   "cell_type": "markdown",
   "metadata": {
    "slideshow": {
     "slide_type": "slide"
    }
   },
   "source": [
    "# Random Search"
   ]
  },
  {
   "cell_type": "code",
   "execution_count": 43,
   "metadata": {
    "slideshow": {
     "slide_type": "subslide"
    }
   },
   "outputs": [
    {
     "name": "stdout",
     "output_type": "stream",
     "text": [
      "{'bootstrap': [True, False],\n",
      " 'max_depth': [10, 20, 30, 40, 50, 60, 70, 80, 90, 100, 110, None],\n",
      " 'max_features': ['auto', 'sqrt'],\n",
      " 'min_samples_leaf': [1, 2, 4],\n",
      " 'min_samples_split': [2, 5, 10],\n",
      " 'n_estimators': [200, 400, 600, 800, 1000, 1200, 1400, 1600, 1800, 2000]}\n"
     ]
    }
   ],
   "source": [
    "from sklearn.model_selection import RandomizedSearchCV\n",
    "# Number of trees in random forest\n",
    "n_estimators = [int(x) for x in np.linspace(start = 200, stop = 2000, num = 10)]\n",
    "# Number of features to consider at every split\n",
    "max_features = ['auto', 'sqrt']\n",
    "# Maximum number of levels in tree\n",
    "max_depth = [int(x) for x in np.linspace(10, 110, num = 11)]\n",
    "max_depth.append(None)\n",
    "# Minimum number of samples required to split a node\n",
    "min_samples_split = [2, 5, 10]\n",
    "# Minimum number of samples required at each leaf node\n",
    "min_samples_leaf = [1, 2, 4]\n",
    "# Method of selecting samples for training each tree\n",
    "bootstrap = [True, False]\n",
    "# Create the random grid\n",
    "random_grid = {'n_estimators': n_estimators,\n",
    "               'max_features': max_features,\n",
    "               'max_depth': max_depth,\n",
    "               'min_samples_split': min_samples_split,\n",
    "               'min_samples_leaf': min_samples_leaf,\n",
    "               'bootstrap': bootstrap}\n",
    "pprint(random_grid)"
   ]
  },
  {
   "cell_type": "code",
   "execution_count": 44,
   "metadata": {
    "slideshow": {
     "slide_type": "slide"
    }
   },
   "outputs": [
    {
     "name": "stdout",
     "output_type": "stream",
     "text": [
      "Fitting 3 folds for each of 100 candidates, totalling 300 fits\n"
     ]
    },
    {
     "name": "stderr",
     "output_type": "stream",
     "text": [
      "[Parallel(n_jobs=-1)]: Using backend LokyBackend with 12 concurrent workers.\n",
      "[Parallel(n_jobs=-1)]: Done  17 tasks      | elapsed:    8.7s\n",
      "[Parallel(n_jobs=-1)]: Done 138 tasks      | elapsed:   53.5s\n",
      "[Parallel(n_jobs=-1)]: Done 300 out of 300 | elapsed:  2.0min finished\n"
     ]
    },
    {
     "data": {
      "text/plain": [
       "RandomizedSearchCV(cv=3, estimator=RandomForestRegressor(), n_iter=100,\n",
       "                   n_jobs=-1,\n",
       "                   param_distributions={'bootstrap': [True, False],\n",
       "                                        'max_depth': [10, 20, 30, 40, 50, 60,\n",
       "                                                      70, 80, 90, 100, 110,\n",
       "                                                      None],\n",
       "                                        'max_features': ['auto', 'sqrt'],\n",
       "                                        'min_samples_leaf': [1, 2, 4],\n",
       "                                        'min_samples_split': [2, 5, 10],\n",
       "                                        'n_estimators': [200, 400, 600, 800,\n",
       "                                                         1000, 1200, 1400, 1600,\n",
       "                                                         1800, 2000]},\n",
       "                   random_state=42, verbose=2)"
      ]
     },
     "execution_count": 44,
     "metadata": {},
     "output_type": "execute_result"
    }
   ],
   "source": [
    "# Use the random grid to search for best hyperparameters\n",
    "# First create the base model to tune\n",
    "rf = RandomForestRegressor()\n",
    "# Random search of parameters, using 3 fold cross validation, \n",
    "# search across 100 different combinations, and use all available cores\n",
    "rf_random = RandomizedSearchCV(estimator = rf, param_distributions = random_grid, n_iter = 100, cv = 3, verbose=2, random_state=42, n_jobs = -1)\n",
    "# Fit the random search model\n",
    "rf_random.fit(train_features, train_labels)"
   ]
  },
  {
   "cell_type": "code",
   "execution_count": 45,
   "metadata": {
    "slideshow": {
     "slide_type": "subslide"
    }
   },
   "outputs": [
    {
     "data": {
      "text/plain": [
       "{'n_estimators': 400,\n",
       " 'min_samples_split': 5,\n",
       " 'min_samples_leaf': 1,\n",
       " 'max_features': 'sqrt',\n",
       " 'max_depth': 30,\n",
       " 'bootstrap': True}"
      ]
     },
     "execution_count": 45,
     "metadata": {},
     "output_type": "execute_result"
    }
   ],
   "source": [
    "rf_random.best_params_"
   ]
  },
  {
   "cell_type": "code",
   "execution_count": 60,
   "metadata": {
    "slideshow": {
     "slide_type": "subslide"
    }
   },
   "outputs": [
    {
     "name": "stdout",
     "output_type": "stream",
     "text": [
      "Model Performance\n",
      "Average Error: 0.2601 degrees.\n",
      "Accuracy = 92.41%.\n",
      "0.7267117838470625\n",
      "Model Performance\n",
      "Average Error: 0.2508 degrees.\n",
      "Accuracy = 92.66%.\n",
      "0.7514476868017701\n",
      "Improvement of 0.27%.\n"
     ]
    }
   ],
   "source": [
    "def evaluate(model, test_features, test_labels):\n",
    "    predictions = model.predict(test_features)\n",
    "    errors = abs(predictions - test_labels)\n",
    "    mape = 100 * np.mean(errors / test_labels)\n",
    "    accuracy = 100 - mape\n",
    "    print('Model Performance')\n",
    "    print('Average Error: {:0.4f} degrees.'.format(np.mean(errors)))\n",
    "    print('Accuracy = {:0.2f}%.'.format(accuracy))\n",
    "    print(r2_score(test_labels,predictions))\n",
    "    \n",
    "    return accuracy\n",
    "base_model = RandomForestRegressor(n_estimators = 10, random_state = 42)\n",
    "base_model.fit(train_features, train_labels)\n",
    "base_accuracy = evaluate(base_model, test_features, test_labels)\n",
    "best_random = rf_random.best_estimator_\n",
    "random_accuracy = evaluate(best_random, test_features, test_labels)\n",
    "print('Improvement of {:0.2f}%.'.format( 100 * (random_accuracy - base_accuracy) / base_accuracy))"
   ]
  },
  {
   "cell_type": "markdown",
   "metadata": {
    "slideshow": {
     "slide_type": "slide"
    }
   },
   "source": [
    "# Grid Search"
   ]
  },
  {
   "cell_type": "code",
   "execution_count": 61,
   "metadata": {
    "slideshow": {
     "slide_type": "subslide"
    }
   },
   "outputs": [],
   "source": [
    "from sklearn.model_selection import GridSearchCV\n",
    "# Create the parameter grid based on the results of random search \n",
    "param_grid = {\n",
    "    'bootstrap': [True],\n",
    "    'max_depth': [110,120,130,140,150],\n",
    "    'max_features': ['sqrt'],\n",
    "    'min_samples_leaf': [1,2,3],\n",
    "    'min_samples_split': [9,10,11],\n",
    "    'n_estimators': [500,600,700]\n",
    "}\n",
    "# Create a based model\n",
    "rf = RandomForestRegressor()\n",
    "# Instantiate the grid search model\n",
    "grid_search = GridSearchCV(estimator = rf, param_grid = param_grid, \n",
    "                          cv = 3, n_jobs = -1, verbose = 2)"
   ]
  },
  {
   "cell_type": "code",
   "execution_count": 62,
   "metadata": {
    "slideshow": {
     "slide_type": "subslide"
    }
   },
   "outputs": [
    {
     "name": "stdout",
     "output_type": "stream",
     "text": [
      "Fitting 3 folds for each of 135 candidates, totalling 405 fits\n"
     ]
    },
    {
     "name": "stderr",
     "output_type": "stream",
     "text": [
      "[Parallel(n_jobs=-1)]: Using backend LokyBackend with 12 concurrent workers.\n",
      "[Parallel(n_jobs=-1)]: Done  17 tasks      | elapsed:    5.0s\n",
      "[Parallel(n_jobs=-1)]: Done 138 tasks      | elapsed:   19.9s\n",
      "[Parallel(n_jobs=-1)]: Done 341 tasks      | elapsed:   47.0s\n",
      "[Parallel(n_jobs=-1)]: Done 405 out of 405 | elapsed:   55.0s finished\n"
     ]
    },
    {
     "data": {
      "text/plain": [
       "{'bootstrap': True,\n",
       " 'max_depth': 110,\n",
       " 'max_features': 'sqrt',\n",
       " 'min_samples_leaf': 2,\n",
       " 'min_samples_split': 9,\n",
       " 'n_estimators': 500}"
      ]
     },
     "execution_count": 62,
     "metadata": {},
     "output_type": "execute_result"
    }
   ],
   "source": [
    "# Fit the grid search to the data\n",
    "grid_search.fit(train_features, train_labels)\n",
    "grid_search.best_params_"
   ]
  },
  {
   "cell_type": "code",
   "execution_count": 64,
   "metadata": {
    "slideshow": {
     "slide_type": "subslide"
    }
   },
   "outputs": [
    {
     "name": "stdout",
     "output_type": "stream",
     "text": [
      "Model Performance\n",
      "Average Error: 0.2494 degrees.\n",
      "Accuracy = 92.68%.\n",
      "0.753921165818382\n",
      "Improvement of 0.30%.\n"
     ]
    }
   ],
   "source": [
    "best_grid = grid_search.best_estimator_\n",
    "grid_accuracy = evaluate(best_grid, test_features, test_labels)\n",
    "print('Improvement of {:0.2f}%.'.format( 100 * (grid_accuracy - base_accuracy) / base_accuracy))\n",
    "#print('Mean Squared Error:', mean_squared_error(test_labels, y_pred))  \n"
   ]
  },
  {
   "cell_type": "code",
   "execution_count": 65,
   "metadata": {},
   "outputs": [
    {
     "name": "stdout",
     "output_type": "stream",
     "text": [
      "Variable: zeaxanthin           Importance: 0.27\n",
      "Variable: total_carot          Importance: 0.19\n",
      "Variable: b_cryp               Importance: 0.16\n",
      "Variable: b_carotene           Importance: 0.08\n",
      "Variable: lutein               Importance: 0.07\n",
      "Variable: zeino                Importance: 0.05\n",
      "Variable: population_25        Importance: 0.04\n",
      "Variable: a_carotene           Importance: 0.03\n",
      "Variable: phytofluene          Importance: 0.03\n",
      "Variable: population_3         Importance: 0.02\n",
      "Variable: population_20        Importance: 0.02\n",
      "Variable: population_10        Importance: 0.01\n",
      "Variable: population_12        Importance: 0.01\n",
      "Variable: population_1         Importance: 0.0\n",
      "Variable: population_8         Importance: 0.0\n",
      "Variable: population_13        Importance: 0.0\n",
      "Variable: population_21        Importance: 0.0\n",
      "Variable: population_23        Importance: 0.0\n"
     ]
    },
    {
     "data": {
      "image/png": "[encoded data removed]",
      "text/plain": [
       "<Figure size 640x480 with 1 Axes>"
      ]
     },
     "metadata": {},
     "output_type": "display_data"
    }
   ],
   "source": [
    "# Get feature importance for the new and improved model!\n",
    "importances = list(best_grid.feature_importances_)\n",
    "# List of tuples with variable and importance\n",
    "feature_importances = [(feature, round(importance, 2)) for feature, importance in zip(feature_list, importances)]\n",
    "# Sort the feature importances by most important first\n",
    "feature_importances = sorted(feature_importances, key = lambda x: x[1], reverse = True)\n",
    "# Print out the feature and importances \n",
    "[print('Variable: {:20} Importance: {}'.format(*pair)) for pair in feature_importances];\n",
    "plot_list = pd.DataFrame(\n",
    "    {'features': feature_list,\n",
    "     'importances': importances,\n",
    "    })\n",
    "plot_list = plot_list.sort_values(\"importances\", ascending=False)\n",
    "plot_list\n",
    "\n",
    "plot_list[\"features\"]\n",
    "list_feature = [\"ZEA\", \"TOTCAR\", \"BCRY\", \"BCAR\", \"PHYF\", \"LUT\", \"ZEI\", \"ACAR\", \"Family_25\", \"Family_3\", \"Family_12\", \"Family_10\", \"Family_23\", \"Family_20\", \"Family_8\", \"Family_13\", \"Family_1\", \"Family_21\"]\n",
    "\n",
    "\n",
    "Dict = dict({\"zeaxanthin\": \"ZEA\", \"total_carot\":\"TOTCAR\", \"b_cryp\":\"BCRY\", \"b_carotene\":\"BCAR\", \"phytofluene\":\"PHYF\", \"lutein\":\"LUT\", \"zeino\":\"ZEI\", \"a_carotene\":\"ACAR\", \"population_25\":\"Family_25\", \"population_3\":\"Family_3\", \"population_12\":\"Family_12\", \"population_10\":\"Family_10\", \"population_23\":\"Family_23\", \"population_20\":\"Family_20\", \"population_8\":\"Family_8\", \"population_13\":\"Family_13\", \"population_1\":\"Family_1\", \"population_21\":\"Family_21\"})\n",
    "\n",
    "L2 = pd.Series(plot_list[\"features\"]).map(Dict)\n",
    "# Import matplotlib for plotting and use magic command for Jupyter Notebooks\n",
    "import matplotlib.pyplot as plt\n",
    "theme_bw = \"path2file/theme_bw.mplstyle\"\n",
    "%matplotlib inline\n",
    "# Set the style\n",
    "plt.style.use(\"default\")\n",
    "# list of x locations for plotting\n",
    "x_values = list(range(len(importances)))\n",
    "# Make a bar chart\n",
    "plt.bar(x_values, plot_list[\"importances\"], orientation = 'vertical')\n",
    "# Tick labels for x axis\n",
    "plt.xticks(x_values, L2, rotation='vertical')\n",
    "# Axis labels and title\n",
    "plt.ylabel('Importance'); plt.xlabel('Model Variable');\n",
    "\n"
   ]
  },
  {
   "cell_type": "markdown",
   "metadata": {
    "slideshow": {
     "slide_type": "slide"
    }
   },
   "source": [
    "In conclusion, there was not much improvement over the \"original\" RF model, and there is no improvement over the linear model. This holds with our initial assumptions!"
   ]
  },
  {
   "cell_type": "code",
   "execution_count": null,
   "metadata": {},
   "outputs": [],
   "source": [
    "#calculate R^2 of the update\n",
    "\n",
    "\n",
    "y_pred = best_grid.\n",
    "\n",
    "y_true = test_labels\n"
   ]
  },
  {
   "cell_type": "code",
   "execution_count": 57,
   "metadata": {},
   "outputs": [
    {
     "data": {
      "text/plain": [
       "<function sklearn.metrics._regression.r2_score(y_true, y_pred, *, sample_weight=None, multioutput='uniform_average')>"
      ]
     },
     "execution_count": 57,
     "metadata": {},
     "output_type": "execute_result"
    }
   ],
   "source": [
    "r2_score(y_true,y_pred)"
   ]
  },
  {
   "cell_type": "code",
   "execution_count": 58,
   "metadata": {},
   "outputs": [
    {
     "data": {
      "text/plain": [
       "RandomForestRegressor(max_depth=110, max_features='sqrt', min_samples_leaf=2,\n",
       "                      min_samples_split=11, n_estimators=600)"
      ]
     },
     "execution_count": 58,
     "metadata": {},
     "output_type": "execute_result"
    }
   ],
   "source": [
    "best_grid"
   ]
  },
  {
   "cell_type": "code",
   "execution_count": null,
   "metadata": {},
   "outputs": [],
   "source": []
  }
 ],
 "metadata": {
  "celltoolbar": "Slideshow",
  "kernelspec": {
   "display_name": "Python 3",
   "language": "python",
   "name": "python3"
  },
  "language_info": {
   "codemirror_mode": {
    "name": "ipython",
    "version": 3
   },
   "file_extension": ".py",
   "mimetype": "text/x-python",
   "name": "python",
   "nbconvert_exporter": "python",
   "pygments_lexer": "ipython3",
   "version": "3.8.5"
  }
 },
 "nbformat": 4,
 "nbformat_minor": 4
}
